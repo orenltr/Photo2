{
 "cells": [
  {
   "cell_type": "markdown",
   "metadata": {},
   "source": [
    "# מעבדה 2 - ניתוח השפעת פיזור נקודות בקרה על פתרון תצלום\n"
   ]
  },
  {
   "cell_type": "code",
   "execution_count": 1,
   "metadata": {},
   "outputs": [],
   "source": [
    "import numpy as np\n",
    "from numpy.linalg import solve, inv\n",
    "from matplotlib import pyplot as plt"
   ]
  },
  {
   "cell_type": "markdown",
   "metadata": {},
   "source": [
    "## שלב 1 - בניית המודל והנתונים "
   ]
  },
  {
   "cell_type": "markdown",
   "metadata": {},
   "source": [
    "- *התקינו מחדש את המודול MatrixMethods*\n",
    "- *במהלך המעבדה נשתמש בקודים ממעבדה קודמת*\n",
    "- *ניתן לכתוב את הפונקציות ב-Pycharm ולייבא אותן ל-Jupyter במקרה הצורך*"
   ]
  },
  {
   "cell_type": "code",
   "execution_count": null,
   "metadata": {},
   "outputs": [],
   "source": [
    "import Camera\n",
    "import SingleImage\n",
    "import MatrixMethods"
   ]
  },
  {
   "cell_type": "markdown",
   "metadata": {},
   "source": [
    "### חלק א'"
   ]
  },
  {
   "cell_type": "markdown",
   "metadata": {},
   "source": [
    "מהו המודל שאנחנו רוצים לבדוק?"
   ]
  },
  {
   "cell_type": "markdown",
   "metadata": {},
   "source": []
  },
  {
   "cell_type": "markdown",
   "metadata": {},
   "source": [
    "\n",
    "\n",
    "נבנה את הנתונים\n",
    "\n",
    "- מספר נקודות שיתן לבדוק את המודל\n",
    "     - לפחות שלוש נקודות\n",
    "\n",
    "- המבנה הפשוט ביותר\n",
    "    - גם למימוש\n",
    "\n",
    "- במיקום הנוח ביותר\n",
    "\n",
    "- הפיזור ש\"מרגיש\" לנו הכי חסון (יציב גיאומטרית)\n"
   ]
  },
  {
   "cell_type": "code",
   "execution_count": 2,
   "metadata": {},
   "outputs": [],
   "source": [
    "# Generate Points"
   ]
  },
  {
   "cell_type": "markdown",
   "metadata": {},
   "source": [
    "נבחר את פרמטרי המודל\n",
    "\n",
    " - נבחר בפרמטרים הנוחים ביותר \n",
    "    - מספרים ו/או זוויות שלמים ו\"יפים\" \n",
    "\n",
    "- נתחיל מהמודל הכי פשוט שאפשר\n",
    "    - תצלום אנכי מעל הראשית\n",
    "    "
   ]
  },
  {
   "cell_type": "code",
   "execution_count": null,
   "metadata": {},
   "outputs": [],
   "source": [
    "camera,singleimage,set orientation -ללא ההרכנות, מעל הראשית"
   ]
  },
  {
   "cell_type": "markdown",
   "metadata": {},
   "source": [
    "ציירו את המודל והנתונים במערכת העולם "
   ]
  },
  {
   "cell_type": "code",
   "execution_count": null,
   "metadata": {},
   "outputs": [],
   "source": [
    "draw- 3D?"
   ]
  },
  {
   "cell_type": "markdown",
   "metadata": {},
   "source": [
    "נייצר את הנתונים לאחר ההתמרה"
   ]
  },
  {
   "cell_type": "code",
   "execution_count": null,
   "metadata": {},
   "outputs": [],
   "source": [
    "groundToImage זה הדגימות?"
   ]
  },
  {
   "cell_type": "markdown",
   "metadata": {},
   "source": [
    "נבנה את המודל אותו נרצה לבדוק"
   ]
  },
  {
   "cell_type": "code",
   "execution_count": null,
   "metadata": {},
   "outputs": [],
   "source": [
    "??? - מודל מתמטי מודל קונפורמי או קולינארי מלא"
   ]
  },
  {
   "cell_type": "markdown",
   "metadata": {},
   "source": [
    "נוודא שהדגימות והמודל נכונים\n",
    "\n",
    " - נפתור את התאום עם הדגימות שיצרנו ונוודא שזהו המודל הנכון\n"
   ]
  },
  {
   "cell_type": "code",
   "execution_count": null,
   "metadata": {},
   "outputs": [],
   "source": [
    "קיבלנו את אותם פרמטרים- computeExteriorOreintation"
   ]
  },
  {
   "cell_type": "markdown",
   "metadata": {},
   "source": [
    "נוסיף רעש מדידה עבור הנקודות המקוריות  \n",
    "\n",
    "הדגימות נלקחות באופן שרירותי מתוך התפלגות נורמלית \n",
    "$$ x, y\\sim (\\mu, \\sigma) $$\n",
    "\n",
    "-  נוסיף רעש מדידה של 1 ס\"מ: $\\sigma=0.01$"
   ]
  },
  {
   "cell_type": "code",
   "execution_count": null,
   "metadata": {},
   "outputs": [],
   "source": [
    "samples+ noise = np.random.normal(0, 0.01, 1)"
   ]
  },
  {
   "cell_type": "markdown",
   "metadata": {},
   "source": [
    "### חלק ב'"
   ]
  },
  {
   "cell_type": "markdown",
   "metadata": {},
   "source": [
    "נבדוק את המודל עבור פיזור שונה של נקודות הבקרה\n",
    "  - כיצד לדעתכם יש לשנות את המודל כך שנקבל פיזור שונה של נקודות הבקרה?"
   ]
  },
  {
   "cell_type": "code",
   "execution_count": null,
   "metadata": {},
   "outputs": [],
   "source": [
    "צמצום המרחקים, לאורך קו ישר וכו"
   ]
  },
  {
   "cell_type": "markdown",
   "metadata": {},
   "source": [
    "הגדירו את פרמטרי המודל "
   ]
  },
  {
   "cell_type": "code",
   "execution_count": null,
   "metadata": {},
   "outputs": [],
   "source": [
    "הגדרת נק בקרה והתצלום"
   ]
  },
  {
   "cell_type": "markdown",
   "metadata": {},
   "source": [
    "ציירו את המודל והנתונים במערכת העולם "
   ]
  },
  {
   "cell_type": "code",
   "execution_count": null,
   "metadata": {},
   "outputs": [],
   "source": []
  },
  {
   "cell_type": "markdown",
   "metadata": {},
   "source": [
    "נייצר את הנתונים לאחר ההתמרה"
   ]
  },
  {
   "cell_type": "code",
   "execution_count": null,
   "metadata": {},
   "outputs": [],
   "source": []
  },
  {
   "cell_type": "markdown",
   "metadata": {},
   "source": [
    "נבנה את המודל אותו נרצה לבדוק"
   ]
  },
  {
   "cell_type": "code",
   "execution_count": null,
   "metadata": {},
   "outputs": [],
   "source": []
  },
  {
   "cell_type": "markdown",
   "metadata": {},
   "source": [
    "נוודא שהדגימות והמודל נכונים\n",
    "\n",
    " - נפתור את התאום עם הדגימות שיצרנו ונוודא שזהו המודל הנכון\n",
    "\n"
   ]
  },
  {
   "cell_type": "code",
   "execution_count": null,
   "metadata": {},
   "outputs": [],
   "source": []
  },
  {
   "cell_type": "markdown",
   "metadata": {},
   "source": [
    "נוסיף רעש מדידה עבור הנקודות המקוריות  \n",
    "\n",
    "הדגימות נלקחות באופן שרירותי מתוך מהתפלגות נורמלית \n",
    "$$ x, y\\sim (\\mu, \\sigma) $$\n",
    "\n",
    "-  נוסיף רעש מדידה של 1 ס\"מ: $\\sigma=0.01$"
   ]
  },
  {
   "cell_type": "code",
   "execution_count": null,
   "metadata": {},
   "outputs": [],
   "source": []
  },
  {
   "cell_type": "markdown",
   "metadata": {},
   "source": [
    "## שלב 2 -  השפעת פיזור נקודות בקרה על פתרון תצלום "
   ]
  },
  {
   "cell_type": "markdown",
   "metadata": {},
   "source": [
    "- כמה תצלומים נדרשים על מנת לבדוק את השפעת פיזור הנקודות על הפתרון?\n",
    "- איך ניתן לייצר מספר תצלומים עם פיזורים שונים של נקודות הבקרה לצורך הבדיקה?\n",
    "  - מהם הגורימים המשפיעים על שינוי בפיזור נקודות הבקרה בתצלום?\n",
    "  - תארו את השלבים הנדרשים לבניה?\n"
   ]
  },
  {
   "cell_type": "markdown",
   "metadata": {},
   "source": []
  },
  {
   "cell_type": "markdown",
   "metadata": {},
   "source": [
    "הגדירו מספר תצלומים (לפחות 8 תצלומים) מסביב לנקודות בקרה שהגדרתם בשלב ראשון"
   ]
  },
  {
   "cell_type": "code",
   "execution_count": null,
   "metadata": {},
   "outputs": [],
   "source": [
    "האם צריך הרכנות"
   ]
  },
  {
   "cell_type": "markdown",
   "metadata": {},
   "source": [
    "חשבו את האוריינטציה חיצונית עבור כל אחד מהתצלומים שיצרתם"
   ]
  },
  {
   "cell_type": "code",
   "execution_count": null,
   "metadata": {},
   "outputs": [],
   "source": [
    "לפני כן צריך לחשב את הדגימות?"
   ]
  },
  {
   "cell_type": "markdown",
   "metadata": {},
   "source": [
    "ניתוח תוצאות\n",
    "\n",
    " - השוו את התוצאות שקיבלתם עם הערכים הידועים\n",
    " - הציגו את הדיוק של כל פתרון "
   ]
  },
  {
   "cell_type": "markdown",
   "metadata": {},
   "source": []
  },
  {
   "cell_type": "markdown",
   "metadata": {},
   "source": [
    " - האם פיזור שונה של נקודות בקרה בתצלום הוביל לתוצאות שונות?\n",
    "   - התייחסו לקונפיגורציות שונות"
   ]
  },
  {
   "cell_type": "code",
   "execution_count": null,
   "metadata": {},
   "outputs": [],
   "source": []
  },
  {
   "cell_type": "markdown",
   "metadata": {},
   "source": [
    "האם קיים הבדל בין תוצאות הפתרון בין תצלום אנכי לתצלום עם אוריינטציה כללית? נמקו"
   ]
  },
  {
   "cell_type": "markdown",
   "metadata": {},
   "source": []
  }
 ],
 "metadata": {
  "kernelspec": {
   "display_name": "Python 3",
   "language": "python",
   "name": "python3"
  },
  "language_info": {
   "codemirror_mode": {
    "name": "ipython",
    "version": 3
   },
   "file_extension": ".py",
   "mimetype": "text/x-python",
   "name": "python",
   "nbconvert_exporter": "python",
   "pygments_lexer": "ipython3",
   "version": "3.6.5"
  }
 },
 "nbformat": 4,
 "nbformat_minor": 2
}
