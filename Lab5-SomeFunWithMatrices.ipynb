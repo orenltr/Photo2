{
 "cells": [
  {
   "cell_type": "markdown",
   "metadata": {},
   "source": [
    "# Algebra and geometry are one "
   ]
  },
  {
   "cell_type": "markdown",
   "metadata": {},
   "source": [
    "2. Given 3 points XYZ1, XYZ2, XYZ3 all sit on the same plane. \n",
    "\n",
    "\n"
   ]
  },
  {
   "cell_type": "markdown",
   "metadata": {},
   "source": [
    "a. Find the normal to the plane in one code-line. \n"
   ]
  },
  {
   "cell_type": "code",
   "execution_count": 62,
   "metadata": {},
   "outputs": [],
   "source": [
    "import numpy as np\n",
    "from matplotlib import pyplot as plt\n",
    "# import numpy.linalg as "
   ]
  },
  {
   "cell_type": "code",
   "execution_count": 53,
   "metadata": {},
   "outputs": [],
   "source": [
    "\n",
    "xyz1 = np.array([1, 2, 8])\n",
    "xyz2 = np.array([0, 5, 11])\n",
    "xyz3 = np.array([2, 4, 16])\n",
    "xyz = np.vstack((xyz1, xyz2, xyz3))"
   ]
  },
  {
   "cell_type": "code",
   "execution_count": 54,
   "metadata": {},
   "outputs": [
    {
     "name": "stdout",
     "output_type": "stream",
     "text": [
      "[ 0.83027809  0.50739216 -0.2306328 ]\n"
     ]
    }
   ],
   "source": [
    "n = np.cross(xyz2-xyz1,xyz3-xyz1)/np.linalg.norm(np.cross(xyz2-xyz1,xyz3-xyz1))\n",
    "print(n)\n"
   ]
  },
  {
   "cell_type": "markdown",
   "metadata": {},
   "source": [
    "b. Try and multiply the matrix $xyz$ by the normal vector. What do you get? What does it mean geometrically?"
   ]
  },
  {
   "cell_type": "code",
   "execution_count": 55,
   "metadata": {},
   "outputs": [
    {
     "name": "stdout",
     "output_type": "stream",
     "text": [
      "[0. 0. 0.]\n"
     ]
    }
   ],
   "source": [
    "print(np.dot(xyz,n.T))"
   ]
  },
  {
   "cell_type": "markdown",
   "metadata": {},
   "source": [
    "קיבלנו את וקטור האפס. זה אומר שהמישור עובר ב-0,0,0 כי כל נקודה בעצם מיצגת וקטור שמתחיל ב-0,0,0. וקיבלנו שוקטורים אלה אנכיים לנורמל, מה שאומר שהם על המישור"
   ]
  },
  {
   "cell_type": "markdown",
   "metadata": {},
   "source": [
    "c. If we will scale the normal, will it change your answer for b? "
   ]
  },
  {
   "cell_type": "markdown",
   "metadata": {
    "collapsed": true
   },
   "source": [
    "לא, קנ\"מ לא ישפיע על כך שהנורמל אנכי למישור "
   ]
  },
  {
   "cell_type": "markdown",
   "metadata": {},
   "source": [
    "d. Use the function \"Null(A)\" that finds the null-space (the kernel) of a matrix with the matrix $xyz$. "
   ]
  },
  {
   "cell_type": "code",
   "execution_count": 56,
   "metadata": {},
   "outputs": [],
   "source": [
    "def Null(matrix):\n",
    "    '''\n",
    "    Find the null space of a matrix\n",
    "\n",
    "    :param matrix: matrix to which the null space is needed\n",
    "\n",
    "    :type matrix: np.array\n",
    "  \n",
    "    :return: the null space of the matrix\n",
    "    \n",
    "    :rtype: np.array    \n",
    "    '''\n",
    "    epsilon = 1e-12 #  numerical zero\n",
    "    \n",
    "    if (matrix.shape[0] - matrix.shape[1]) !=0:\n",
    "        #non square matrix\n",
    "        matrix = matrix.dot(matrix.T)\n",
    "    u, s, vh = np.linalg.svd(matrix)\n",
    "    null_mask = (s <= epsilon)\n",
    "\n",
    "    return np.compress(null_mask, vh, axis=0)\n"
   ]
  },
  {
   "cell_type": "code",
   "execution_count": 57,
   "metadata": {},
   "outputs": [
    {
     "name": "stdout",
     "output_type": "stream",
     "text": [
      "[[-0.83027809 -0.50739216  0.2306328 ]]\n"
     ]
    }
   ],
   "source": [
    "nullSpace = Null(xyz)\n",
    "print(nullSpace)"
   ]
  },
  {
   "cell_type": "markdown",
   "metadata": {},
   "source": [
    "e. Compare the result of d with the normal. What are the differences? "
   ]
  },
  {
   "cell_type": "markdown",
   "metadata": {},
   "source": [
    "ההבדל היחיד במקרה זה הוא בסימן"
   ]
  },
  {
   "cell_type": "markdown",
   "metadata": {},
   "source": [
    "וזהו הבדל לא באמת רלוונטי ותלוי בכיוון שבחרתי לוקטורים כשחישבנו את הנורמל"
   ]
  },
  {
   "cell_type": "markdown",
   "metadata": {},
   "source": [
    "3. Given the following 2D vectors and the transformation matrices:"
   ]
  },
  {
   "cell_type": "code",
   "execution_count": 58,
   "metadata": {},
   "outputs": [],
   "source": [
    "p1 = np.array([2, 5])\n",
    "p2 = np.array([6, -1])\n",
    "p3 = np.array([1, 0])\n",
    "p4 = np.array([-4, 1.5])\n",
    "p5 = np.array([-8.8, -13])\n",
    "p6 = np.array([20.5, 16])\n",
    "p7 = np.array([0, 1])\n",
    "p8 = np.array([-0.95288594, 0.30332883])\n",
    "p9 = np.array([-0.66195254, -0.74954575])\n",
    "\n",
    "\n",
    "A = np.array([[1, 0], [0, 2]])\n",
    "B = np.array([[1, np.tan(np.deg2rad(30))], [0, 1]])\n",
    "C = np.array([[1.1853194, 0.96350986], [0.34729636, 1.96961551]])"
   ]
  },
  {
   "cell_type": "markdown",
   "metadata": {},
   "source": [
    "a. Compute the transfomration of each point under each of the matrices, one line for each transformation. "
   ]
  },
  {
   "cell_type": "markdown",
   "metadata": {},
   "source": [
    "1. Under transformation ${\\bf A}$:"
   ]
  },
  {
   "cell_type": "code",
   "execution_count": 67,
   "metadata": {},
   "outputs": [
    {
     "name": "stdout",
     "output_type": "stream",
     "text": [
      "[[  2.          10.        ]\n",
      " [  6.          -2.        ]\n",
      " [  1.           0.        ]\n",
      " [ -4.           3.        ]\n",
      " [ -8.8        -26.        ]\n",
      " [ 20.5         32.        ]\n",
      " [  0.           2.        ]\n",
      " [ -0.95288594   0.60665766]\n",
      " [ -0.66195254  -1.4990915 ]]\n"
     ]
    }
   ],
   "source": [
    "transformedPointsA = np.dot(A,(np.vstack((p1,p2,p3,p4,p5,p6,p7,p8,p9)).T)).T\n",
    "print(transformedPointsA)"
   ]
  },
  {
   "cell_type": "markdown",
   "metadata": {},
   "source": [
    "2. Draw the points before the transformation as black dots, and after transofrmation as orange stars"
   ]
  },
  {
   "cell_type": "code",
   "execution_count": 68,
   "metadata": {},
   "outputs": [
    {
     "data": {
      "text/plain": [
       "<matplotlib.collections.PathCollection at 0x24a7b3c1788>"
      ]
     },
     "execution_count": 68,
     "metadata": {},
     "output_type": "execute_result"
    },
    {
     "data": {
      "image/png": "[encoded data removed]",
      "text/plain": [
       "<Figure size 432x288 with 1 Axes>"
      ]
     },
     "metadata": {
      "needs_background": "light"
     },
     "output_type": "display_data"
    }
   ],
   "source": [
    "points = np.vstack(((p1,p2,p3,p4,p5,p6,p7,p8,p9)))\n",
    "plt.scatter(points[:,0],points[:,1] ,c='black', marker='.')\n",
    "plt.scatter(transformedPointsA[:,0],transformedPointsA[:,1] ,c='orange', marker='*')"
   ]
  },
  {
   "cell_type": "markdown",
   "metadata": {},
   "source": [
    "3. On which vector the transformation doesn't change the vector up to scale?"
   ]
  },
  {
   "cell_type": "code",
   "execution_count": 91,
   "metadata": {},
   "outputs": [
    {
     "name": "stderr",
     "output_type": "stream",
     "text": [
      "C:\\Users\\Dell\\Anaconda3\\lib\\site-packages\\ipykernel_launcher.py:1: RuntimeWarning: invalid value encountered in true_divide\n",
      "  \"\"\"Entry point for launching an IPython kernel.\n"
     ]
    },
    {
     "data": {
      "text/plain": [
       "array([[ 1.,  2.],\n",
       "       [ 1.,  2.],\n",
       "       [ 1., nan],\n",
       "       [ 1.,  2.],\n",
       "       [ 1.,  2.],\n",
       "       [ 1.,  2.],\n",
       "       [nan,  2.],\n",
       "       [ 1.,  2.],\n",
       "       [ 1.,  2.]])"
      ]
     },
     "execution_count": 91,
     "metadata": {},
     "output_type": "execute_result"
    }
   ],
   "source": [
    "transformedPointsA/points"
   ]
  },
  {
   "cell_type": "markdown",
   "metadata": {},
   "source": [
    "p3,p7"
   ]
  },
  {
   "cell_type": "markdown",
   "metadata": {},
   "source": [
    "b. \n",
    "1. Under transformation ${\\bf B}$:"
   ]
  },
  {
   "cell_type": "code",
   "execution_count": 70,
   "metadata": {},
   "outputs": [
    {
     "name": "stdout",
     "output_type": "stream",
     "text": [
      "[[  4.88675135   5.        ]\n",
      " [  5.42264973  -1.        ]\n",
      " [  1.           0.        ]\n",
      " [ -3.1339746    1.5       ]\n",
      " [-16.3055535  -13.        ]\n",
      " [ 29.73760431  16.        ]\n",
      " [  0.57735027   1.        ]\n",
      " [ -0.77775896   0.30332883]\n",
      " [ -1.09470298  -0.74954575]]\n"
     ]
    }
   ],
   "source": [
    "transformedPointsB = np.dot(B,(np.vstack((p1,p2,p3,p4,p5,p6,p7,p8,p9)).T)).T\n",
    "print(transformedPointsB)"
   ]
  },
  {
   "cell_type": "markdown",
   "metadata": {},
   "source": [
    "2. Draw the points before the transformation as black dots, and after transofrmation as blue triangles"
   ]
  },
  {
   "cell_type": "code",
   "execution_count": 71,
   "metadata": {},
   "outputs": [
    {
     "data": {
      "text/plain": [
       "<matplotlib.collections.PathCollection at 0x24a7b905ac8>"
      ]
     },
     "execution_count": 71,
     "metadata": {},
     "output_type": "execute_result"
    },
    {
     "data": {
      "image/png": "[encoded data removed]",
      "text/plain": [
       "<Figure size 432x288 with 1 Axes>"
      ]
     },
     "metadata": {
      "needs_background": "light"
     },
     "output_type": "display_data"
    }
   ],
   "source": [
    "plt.scatter(points[:,0],points[:,1] ,c='black', marker='.')\n",
    "plt.scatter(transformedPointsA[:,0],transformedPointsA[:,1] ,c='blue', marker='^')"
   ]
  },
  {
   "cell_type": "markdown",
   "metadata": {},
   "source": [
    "3. On which vector the transformation doesn't change the vector up to scale?"
   ]
  },
  {
   "cell_type": "code",
   "execution_count": 90,
   "metadata": {},
   "outputs": [
    {
     "name": "stderr",
     "output_type": "stream",
     "text": [
      "C:\\Users\\Dell\\Anaconda3\\lib\\site-packages\\ipykernel_launcher.py:1: RuntimeWarning: divide by zero encountered in true_divide\n",
      "  \"\"\"Entry point for launching an IPython kernel.\n",
      "C:\\Users\\Dell\\Anaconda3\\lib\\site-packages\\ipykernel_launcher.py:1: RuntimeWarning: invalid value encountered in true_divide\n",
      "  \"\"\"Entry point for launching an IPython kernel.\n"
     ]
    },
    {
     "data": {
      "text/plain": [
       "array([[2.44337567, 1.        ],\n",
       "       [0.90377496, 1.        ],\n",
       "       [1.        ,        nan],\n",
       "       [0.78349365, 1.        ],\n",
       "       [1.85290381, 1.        ],\n",
       "       [1.45061484, 1.        ],\n",
       "       [       inf, 1.        ],\n",
       "       [0.81621412, 1.        ],\n",
       "       [1.65374844, 1.        ]])"
      ]
     },
     "execution_count": 90,
     "metadata": {},
     "output_type": "execute_result"
    }
   ],
   "source": [
    "transformedPointsB/points # test for scale\n",
    "# we want to see same result in x and y\n",
    "# the nan result is because 0 divide by 0"
   ]
  },
  {
   "cell_type": "markdown",
   "metadata": {},
   "source": [
    "p3"
   ]
  },
  {
   "cell_type": "markdown",
   "metadata": {},
   "source": [
    "c. \n",
    "1. Under transformation ${\\bf C}$:"
   ]
  },
  {
   "cell_type": "code",
   "execution_count": 74,
   "metadata": {},
   "outputs": [
    {
     "name": "stdout",
     "output_type": "stream",
     "text": [
      "[[  7.1881881   10.54267027]\n",
      " [  6.14840654   0.11416265]\n",
      " [  1.1853194    0.34729636]\n",
      " [ -3.29601281   1.56523782]\n",
      " [-22.9564389  -28.6612096 ]\n",
      " [ 39.71520546  38.63342354]\n",
      " [  0.96350986   1.96961551]\n",
      " [ -0.83721387   0.26650735]\n",
      " [ -1.50681991  -1.70621064]]\n"
     ]
    }
   ],
   "source": [
    "transformedPointsC = np.dot(C,(np.vstack((p1,p2,p3,p4,p5,p6,p7,p8,p9)).T)).T\n",
    "print(transformedPointsC)"
   ]
  },
  {
   "cell_type": "markdown",
   "metadata": {},
   "source": [
    "2. Draw the points before the transformation as black dots, and after transofrmation as magenta crosses"
   ]
  },
  {
   "cell_type": "code",
   "execution_count": 75,
   "metadata": {},
   "outputs": [
    {
     "data": {
      "text/plain": [
       "<matplotlib.collections.PathCollection at 0x24a7b93c108>"
      ]
     },
     "execution_count": 75,
     "metadata": {},
     "output_type": "execute_result"
    },
    {
     "data": {
      "image/png": "[encoded data removed]",
      "text/plain": [
       "<Figure size 432x288 with 1 Axes>"
      ]
     },
     "metadata": {
      "needs_background": "light"
     },
     "output_type": "display_data"
    }
   ],
   "source": [
    "plt.scatter(points[:,0],points[:,1] ,c='black', marker='.')\n",
    "plt.scatter(transformedPointsA[:,0],transformedPointsA[:,1] ,c='magenta', marker='+')"
   ]
  },
  {
   "cell_type": "markdown",
   "metadata": {},
   "source": [
    "3. On which vector the transformation doesn't change the vector up to scale?"
   ]
  },
  {
   "cell_type": "code",
   "execution_count": 89,
   "metadata": {},
   "outputs": [
    {
     "name": "stderr",
     "output_type": "stream",
     "text": [
      "C:\\Users\\Dell\\Anaconda3\\lib\\site-packages\\ipykernel_launcher.py:1: RuntimeWarning: divide by zero encountered in true_divide\n",
      "  \"\"\"Entry point for launching an IPython kernel.\n"
     ]
    },
    {
     "data": {
      "text/plain": [
       "array([[ 3.59409405,  2.10853405],\n",
       "       [ 1.02473442, -0.11416265],\n",
       "       [ 1.1853194 ,         inf],\n",
       "       [ 0.8240032 ,  1.04349188],\n",
       "       [ 2.60868624,  2.20470843],\n",
       "       [ 1.9373271 ,  2.41458897],\n",
       "       [        inf,  1.96961551],\n",
       "       [ 0.87860869,  0.8786087 ],\n",
       "       [ 2.2763262 ,  2.27632622]])"
      ]
     },
     "execution_count": 89,
     "metadata": {},
     "output_type": "execute_result"
    }
   ],
   "source": [
    "transformedPointsC/points"
   ]
  },
  {
   "cell_type": "markdown",
   "metadata": {},
   "source": [
    "p8,p9"
   ]
  },
  {
   "cell_type": "markdown",
   "metadata": {},
   "source": [
    "d. Use the function **np.linalg.eig** for each of the matrices, write down your result"
   ]
  },
  {
   "cell_type": "code",
   "execution_count": 79,
   "metadata": {},
   "outputs": [
    {
     "name": "stdout",
     "output_type": "stream",
     "text": [
      "(array([1., 2.]), array([[1., 0.],\n",
      "       [0., 1.]]))\n",
      "(array([1., 1.]), array([[ 1.00000000e+00, -1.00000000e+00],\n",
      "       [ 0.00000000e+00,  3.84592537e-16]]))\n",
      "(array([0.8786087 , 2.27632621]), array([[-0.95288594, -0.66195254],\n",
      "       [ 0.30332883, -0.74954576]]))\n"
     ]
    }
   ],
   "source": [
    "print(np.linalg.eig(A))\n",
    "print(np.linalg.eig(B))\n",
    "print(np.linalg.eig(C))"
   ]
  },
  {
   "cell_type": "markdown",
   "metadata": {},
   "source": [
    "e. Compare the results for a3, b3 and c3 with the results of d, for each transformation matrix"
   ]
  },
  {
   "cell_type": "markdown",
   "metadata": {},
   "source": [
    "הוקטורים שלא השתנו עד כדי קנ\"מ הם הוקטורים העצמיים של המטריצות"
   ]
  },
  {
   "cell_type": "markdown",
   "metadata": {},
   "source": [
    "f. Given the matrix ${\\bf D}$, on which vectors this transformation matrix will change only their scale?"
   ]
  },
  {
   "cell_type": "code",
   "execution_count": 80,
   "metadata": {},
   "outputs": [],
   "source": [
    "D = np.array([[5, -6, -6], [-1, 4, 2], [3, -6, -4]])"
   ]
  },
  {
   "cell_type": "markdown",
   "metadata": {},
   "source": [
    "הוקטורים שישתנו רק בקנ\"מ הם הוקטורים העצמיים של המטריצה:"
   ]
  },
  {
   "cell_type": "code",
   "execution_count": 87,
   "metadata": {},
   "outputs": [
    {
     "name": "stdout",
     "output_type": "stream",
     "text": [
      "[[ 0.6882472  -0.62406387  0.9427575 ]\n",
      " [-0.22941573  0.37401343  0.24308314]\n",
      " [ 0.6882472  -0.68604537  0.22829561]]\n"
     ]
    }
   ],
   "source": [
    "w,v = np.linalg.eig(D)\n",
    "print(v)"
   ]
  }
 ],
 "metadata": {
  "kernelspec": {
   "display_name": "Python 3",
   "language": "python",
   "name": "python3"
  },
  "language_info": {
   "codemirror_mode": {
    "name": "ipython",
    "version": 3
   },
   "file_extension": ".py",
   "mimetype": "text/x-python",
   "name": "python",
   "nbconvert_exporter": "python",
   "pygments_lexer": "ipython3",
   "version": "3.7.4"
  }
 },
 "nbformat": 4,
 "nbformat_minor": 2
}
