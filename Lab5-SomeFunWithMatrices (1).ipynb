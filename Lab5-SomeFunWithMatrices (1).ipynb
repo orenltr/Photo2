{
 "cells": [
  {
   "cell_type": "markdown",
   "metadata": {},
   "source": [
    "# Algebra and geometry are one "
   ]
  },
  {
   "cell_type": "markdown",
   "metadata": {},
   "source": [
    "2. Given 3 points XYZ1, XYZ2, XYZ3 all sit on the same plane. \n",
    "\n",
    "\n"
   ]
  },
  {
   "cell_type": "markdown",
   "metadata": {},
   "source": [
    "a. Find the normal to the plane in one code-line. \n"
   ]
  },
  {
   "cell_type": "code",
   "execution_count": 8,
   "metadata": {
    "collapsed": true
   },
   "outputs": [],
   "source": [
    "xyz1 = np.array([1, 2, 8])\n",
    "xyz2 = np.array([0, 5, 11])\n",
    "xyz3 = np.array([2, 4, 16])\n",
    "xyz = np.vstack((xyz1, xyz2, xyz3))"
   ]
  },
  {
   "cell_type": "code",
   "execution_count": null,
   "metadata": {
    "collapsed": true
   },
   "outputs": [],
   "source": []
  },
  {
   "cell_type": "markdown",
   "metadata": {},
   "source": [
    "b. Try and multiply the matrix $xyz$ by the normal vector. What do you get? What does it mean geometrically?"
   ]
  },
  {
   "cell_type": "code",
   "execution_count": null,
   "metadata": {
    "collapsed": true
   },
   "outputs": [],
   "source": []
  },
  {
   "cell_type": "markdown",
   "metadata": {},
   "source": [
    "c. If we will scale the normal, will it change your answer for b? "
   ]
  },
  {
   "cell_type": "code",
   "execution_count": null,
   "metadata": {
    "collapsed": true
   },
   "outputs": [],
   "source": []
  },
  {
   "cell_type": "markdown",
   "metadata": {},
   "source": [
    "d. Use the function \"Null(A)\" that finds the null-space (the kernel) of a matrix with the matrix $xyz$. "
   ]
  },
  {
   "cell_type": "code",
   "execution_count": 9,
   "metadata": {
    "collapsed": true
   },
   "outputs": [],
   "source": [
    "def Null(matrix):\n",
    "    '''\n",
    "    Find the null space of a matrix\n",
    "\n",
    "    :param matrix: matrix to which the null space is needed\n",
    "\n",
    "    :type matrix: np.array\n",
    "  \n",
    "    :return: the null space of the matrix\n",
    "    \n",
    "    :rtype: np.array    \n",
    "    '''\n",
    "    epsilon = 1e-12 #  numerical zero\n",
    "    \n",
    "    if (matrix.shape[0] - matrix.shape[1]) !=0:\n",
    "        #non square matrix\n",
    "        matrix = matrix.dot(matrix.T)\n",
    "    u, s, vh = np.linalg.svd(matrix)\n",
    "    null_mask = (s <= epsilon)\n",
    "\n",
    "    return np.compress(null_mask, vh, axis=0)\n"
   ]
  },
  {
   "cell_type": "code",
   "execution_count": 10,
   "metadata": {},
   "outputs": [
    {
     "name": "stdout",
     "output_type": "stream",
     "text": [
      "[[-0.83027809 -0.50739216  0.2306328 ]]\n"
     ]
    }
   ],
   "source": [
    "print(Null(xyz))"
   ]
  },
  {
   "cell_type": "markdown",
   "metadata": {},
   "source": [
    "e. Compare the result of d with the normal. What are the differences? "
   ]
  },
  {
   "cell_type": "markdown",
   "metadata": {},
   "source": []
  },
  {
   "cell_type": "markdown",
   "metadata": {},
   "source": []
  },
  {
   "cell_type": "markdown",
   "metadata": {},
   "source": [
    "3. Given the following 2D vectors and the transformation matrices:"
   ]
  },
  {
   "cell_type": "code",
   "execution_count": null,
   "metadata": {
    "collapsed": true
   },
   "outputs": [],
   "source": [
    "p1 = np.array([2, 5])\n",
    "p2 = np.array([6, -1])\n",
    "p3 = np.array([1, 0])\n",
    "p4 = np.array([-4, 1.5])\n",
    "p5 = np.array([-8.8, -13])\n",
    "p6 = np.array([20.5, 16])\n",
    "p7 = np.array([0, 1])\n",
    "p8 = np.array([-0.95288594, 0.30332883])\n",
    "p9 = np.array([-0.66195254, -0.74954575])\n",
    "\n",
    "\n",
    "A = np.array([[1, 0], [0, 2]])\n",
    "B = np.array([[1, np.tan(np.deg2rad(30))], [0, 1]])\n",
    "C = np.array([[1.1853194, 0.96350986], [0.34729636, 1.96961551]])"
   ]
  },
  {
   "cell_type": "markdown",
   "metadata": {},
   "source": [
    "a. Compute the transfomration of each point under each of the matrices, one line for each transformation. "
   ]
  },
  {
   "cell_type": "markdown",
   "metadata": {},
   "source": [
    "1. Under transformation ${\\bf A}$:"
   ]
  },
  {
   "cell_type": "code",
   "execution_count": null,
   "metadata": {
    "collapsed": true
   },
   "outputs": [],
   "source": []
  },
  {
   "cell_type": "markdown",
   "metadata": {},
   "source": [
    "2. Draw the points before the transformation as black dots, and after transofrmation as orange stars"
   ]
  },
  {
   "cell_type": "code",
   "execution_count": null,
   "metadata": {
    "collapsed": true
   },
   "outputs": [],
   "source": []
  },
  {
   "cell_type": "markdown",
   "metadata": {},
   "source": [
    "3. On which vector the transformation doesn't change the vector up to scale?"
   ]
  },
  {
   "cell_type": "markdown",
   "metadata": {},
   "source": []
  },
  {
   "cell_type": "markdown",
   "metadata": {},
   "source": [
    "b. \n",
    "1. Under transformation ${\\bf B}$:"
   ]
  },
  {
   "cell_type": "code",
   "execution_count": null,
   "metadata": {
    "collapsed": true
   },
   "outputs": [],
   "source": []
  },
  {
   "cell_type": "markdown",
   "metadata": {},
   "source": [
    "2. Draw the points before the transformation as black dots, and after transofrmation as blue triangles"
   ]
  },
  {
   "cell_type": "code",
   "execution_count": null,
   "metadata": {
    "collapsed": true
   },
   "outputs": [],
   "source": []
  },
  {
   "cell_type": "markdown",
   "metadata": {},
   "source": [
    "3. On which vector the transformation doesn't change the vector up to scale?"
   ]
  },
  {
   "cell_type": "markdown",
   "metadata": {},
   "source": []
  },
  {
   "cell_type": "markdown",
   "metadata": {},
   "source": [
    "c. \n",
    "1. Under transformation ${\\bf C}$:"
   ]
  },
  {
   "cell_type": "code",
   "execution_count": null,
   "metadata": {
    "collapsed": true
   },
   "outputs": [],
   "source": []
  },
  {
   "cell_type": "markdown",
   "metadata": {},
   "source": [
    "2. Draw the points before the transformation as black dots, and after transofrmation as magenta crosses"
   ]
  },
  {
   "cell_type": "code",
   "execution_count": null,
   "metadata": {
    "collapsed": true
   },
   "outputs": [],
   "source": []
  },
  {
   "cell_type": "markdown",
   "metadata": {},
   "source": [
    "3. On which vector the transformation doesn't change the vector up to scale?"
   ]
  },
  {
   "cell_type": "markdown",
   "metadata": {},
   "source": []
  },
  {
   "cell_type": "markdown",
   "metadata": {},
   "source": [
    "d. Use the function **np.linalg.eig** for each of the matrices, write down your result"
   ]
  },
  {
   "cell_type": "code",
   "execution_count": null,
   "metadata": {
    "collapsed": true
   },
   "outputs": [],
   "source": []
  },
  {
   "cell_type": "markdown",
   "metadata": {},
   "source": [
    "e. Compare the results for a3, b3 and c3 with the results of d, for each transformation matrix"
   ]
  },
  {
   "cell_type": "markdown",
   "metadata": {},
   "source": []
  },
  {
   "cell_type": "markdown",
   "metadata": {},
   "source": [
    "f. Given the matrix ${\\bf D}$, on which vectors this transformation matrix will change only their scale?"
   ]
  },
  {
   "cell_type": "code",
   "execution_count": 4,
   "metadata": {
    "collapsed": true
   },
   "outputs": [],
   "source": [
    "D = np.array([[5, -6, -6], [-1, 4, 2], [3, -6, -4]])"
   ]
  },
  {
   "cell_type": "code",
   "execution_count": null,
   "metadata": {
    "collapsed": true
   },
   "outputs": [],
   "source": []
  }
 ],
 "metadata": {
  "kernelspec": {
   "display_name": "Python 3",
   "language": "python",
   "name": "python3"
  },
  "language_info": {
   "codemirror_mode": {
    "name": "ipython",
    "version": 3
   },
   "file_extension": ".py",
   "mimetype": "text/x-python",
   "name": "python",
   "nbconvert_exporter": "python",
   "pygments_lexer": "ipython3",
   "version": "3.7.3"
  }
 },
 "nbformat": 4,
 "nbformat_minor": 2
}
