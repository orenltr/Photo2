{
 "cells": [
  {
   "cell_type": "raw",
   "metadata": {},
   "source": [
    "מגישים: אורן לוטרמן, נועם זימרן"
   ]
  },
  {
   "cell_type": "markdown",
   "metadata": {},
   "source": [
    "# מעבדה 3 - כיול מצלמה  - בניית נתונים"
   ]
  },
  {
   "cell_type": "markdown",
   "metadata": {},
   "source": [
    "עד כה יצרנו תצלומים באמצעות מצלמות אידאליות, שם הנקודה הראשית נמצאת בדיוק בראשית הצירים של מערכת התצלום.\n",
    "\n",
    "על מנת שנוכל לבדוק מודלים של כיול של מצלמה, עלינו להכניס הזזה של הנקודה הראשית ועיוותי עדשה."
   ]
  },
  {
   "cell_type": "markdown",
   "metadata": {},
   "source": [
    "### חלק 1 - הנקודה הראשית"
   ]
  },
  {
   "cell_type": "markdown",
   "metadata": {},
   "source": [
    "1.\tכתבו פונקציה המייצרת נקודות במערכת התצלום כאשר הנקודה הראשית מוזזת מראשית הצירים. "
   ]
  },
  {
   "cell_type": "code",
   "execution_count": 1,
   "metadata": {},
   "outputs": [],
   "source": [
    "import numpy as np\n",
    "from matplotlib import pyplot as plt\n",
    "from Camera import Camera\n",
    "import PhotoViewer as pv\n",
    "from SingleImage import SingleImage\n",
    "import MatrixMethods\n",
    "\n",
    "# def ShiftedPrincipalPoint(self, camera_points):\n",
    "#     \"\"\"\n",
    "#     Points in camera space when principal point is shifted\n",
    "#     :param camera_points: sampled image points\n",
    "#     :param t: shifting from principal point\n",
    "\n",
    "#     :type camera_points: np.array nx2\n",
    "#     :type t: np.array 1X2\n",
    "\n",
    "#     :return: shifted image points\n",
    "#     \"\"\"\n",
    "\n",
    "#     shifted_camera_points = np.zeros([len(camera_points), 2])\n",
    "#     shifted_camera_points[:, 0] = camera_points[:, 0] + self.principalPoint[0]\n",
    "#     shifted_camera_points[:, 1] = camera_points[:, 1] + self.principalPoint[1]\n",
    "#     return shifted_camera_points\n"
   ]
  },
  {
   "cell_type": "markdown",
   "metadata": {},
   "source": [
    "2.\tנגדיר את מיקום הנקודה הראשית xp=100; yp=200 מיקרון. כיצד ישתנו ערכי הנקודות במערכת התצלום. הסבירו איזה ערכים אתם צופים לקבל. באיזו סוג התמרה השתמשתם?"
   ]
  },
  {
   "cell_type": "markdown",
   "metadata": {},
   "source": [
    "ביצענו הזזה של מערכת היחוס.\n",
    "נחבר את ערכי ההזזה לערכי הנקודות שדגמנו במערכת התצלום.\n"
   ]
  },
  {
   "cell_type": "code",
   "execution_count": 2,
   "metadata": {},
   "outputs": [
    {
     "name": "stdout",
     "output_type": "stream",
     "text": [
      "[[ 3  3]\n",
      " [ 7  4]\n",
      " [10  8]\n",
      " [12 15]\n",
      " [13 13]\n",
      " [16  6]]\n"
     ]
    }
   ],
   "source": [
    "# define camera\n",
    "focal_length = 35  # [mm]\n",
    "sensor_size = 24  # [mm]\n",
    "xp=0.1  # [mm]\n",
    "yp=0.2  # [mm]\n",
    "camera1 = Camera(focal_length, np.array([xp, yp]), None, None, None, sensor_size)\n",
    "img1 = SingleImage(camera1)\n",
    "omega = 0\n",
    "phi = 0\n",
    "kappa = 0\n",
    "Z = 50  # [m]\n",
    "img1.exteriorOrientationParameters = np.array([[0, 0, Z, omega, phi, kappa]])\n",
    "\n",
    "camera_points = np.array([[3, 3],\n",
    "                          [7, 4],\n",
    "                          [10, 8],\n",
    "                          [12, 15],\n",
    "                          [13, 13],\n",
    "                          [16, 6]])  # [mm]\n",
    "print(camera_points)"
   ]
  },
  {
   "cell_type": "markdown",
   "metadata": {},
   "source": [
    "3.\tהראו שהפונקציה מחזירה את הערכים שלהם ציפיתם. "
   ]
  },
  {
   "cell_type": "code",
   "execution_count": 3,
   "metadata": {},
   "outputs": [
    {
     "name": "stdout",
     "output_type": "stream",
     "text": [
      "~~~~~ \n",
      " [[ 3.1  3.2]\n",
      " [ 7.1  4.2]\n",
      " [10.1  8.2]\n",
      " [12.1 15.2]\n",
      " [13.1 13.2]\n",
      " [16.1  6.2]]\n"
     ]
    }
   ],
   "source": [
    "shifted_points = camera1.ShiftedPrincipalPoint(camera_points)\n",
    "print('~~~~~','\\n',shifted_points)\n"
   ]
  },
  {
   "cell_type": "markdown",
   "metadata": {},
   "source": [
    "4.\tכתבו פונקציה המתקנת את הנקודות בהינתן ערכי הנקודה הראשית אל מערכת המצלמה. "
   ]
  },
  {
   "cell_type": "code",
   "execution_count": 4,
   "metadata": {},
   "outputs": [],
   "source": [
    "# def CorrectionToPrincipalPoint(self, camera_points):\n",
    "#     \"\"\"\n",
    "#     Correction to principal point\n",
    "\n",
    "#     :param camera_points: sampled image points\n",
    "\n",
    "#     :type: np.array nx2\n",
    "\n",
    "#     :return: corrected image points\n",
    "\n",
    "#     :rtype: np.array nx2\n",
    "\n",
    "#     .. warning::\n",
    "\n",
    "#         This function is empty, need implementation\n",
    "\n",
    "#     .. note::\n",
    "\n",
    "#         The principal point is an attribute of the camera object, i.e., ``self.principalPoint``\n",
    "\n",
    "\n",
    "#     \"\"\"\n",
    "\n",
    "#     corrected_camera_points = np.zeros([len(camera_points), 2])\n",
    "#     corrected_camera_points[:, 0] = camera_points[:, 0] - self.principalPoint[0]\n",
    "#     corrected_camera_points[:, 1] = camera_points[:, 1] - self.principalPoint[1]\n",
    "#     return corrected_camera_points\n"
   ]
  },
  {
   "cell_type": "markdown",
   "metadata": {},
   "source": [
    "5.\tהראו כי פתרון התצלום לאחר התיקון מוביל לערכים צפויים. "
   ]
  },
  {
   "cell_type": "code",
   "execution_count": 5,
   "metadata": {},
   "outputs": [
    {
     "name": "stdout",
     "output_type": "stream",
     "text": [
      "~~~~~ \n",
      " [[ 3.  3.]\n",
      " [ 7.  4.]\n",
      " [10.  8.]\n",
      " [12. 15.]\n",
      " [13. 13.]\n",
      " [16.  6.]]\n"
     ]
    }
   ],
   "source": [
    "correted_points = camera1.CorrectionToPrincipalPoint(shifted_points)\n",
    "print('~~~~~','\\n',correted_points)\n"
   ]
  },
  {
   "cell_type": "markdown",
   "metadata": {},
   "source": [
    "ניתן לראות שחזרנו לנקודות המקוריות- כלומר התיקון עבד כראוי"
   ]
  },
  {
   "cell_type": "markdown",
   "metadata": {},
   "source": [
    "### חלק 2 - עיוותים רדיאליים"
   ]
  },
  {
   "cell_type": "markdown",
   "metadata": {},
   "source": [
    "6.\tהשתמשו במודל של העיוותים הרדיאליים שניתנה בהרצאה. מה יהיו ערכי K1  ו-K2 כך שהעיוות המקסימלי בתמונה לא יעלה על 50 מיקרון והעיוות הנתרם על ידי K2 לא יעלה על 10 מיקרון. ניתן להניח ש-K3=0.  "
   ]
  },
  {
   "cell_type": "code",
   "execution_count": 6,
   "metadata": {},
   "outputs": [
    {
     "name": "stdout",
     "output_type": "stream",
     "text": [
      "k1= \n",
      " 8.498618786855923e-06\n",
      "k2= \n",
      " 7.56508704544768e-09\n"
     ]
    }
   ],
   "source": [
    "# calculate k1, k2\n",
    "# assume maximal radial distortions in the edges\n",
    "r = np.sqrt((camera1.sensorSize/2 - camera1.principalPoint[0]) ** 2 +\n",
    "            (camera1.sensorSize/2 - camera1.principalPoint[1]) ** 2)\n",
    "# dr = k1*r^3+k2*r^5....\n",
    "k2 = 0.01/(r**5)\n",
    "k1 = (0.05-k2*r**5)/(r**3)\n",
    "print('k1=','\\n',k1)\n",
    "print('k2=','\\n',k2)\n",
    "\n",
    "camera1.radial_distortions = np.array([k1,k2])\n"
   ]
  },
  {
   "cell_type": "markdown",
   "metadata": {},
   "source": [
    "7.\tהסתמכו על מודל העיוותים ועל K1 ו-K2 שמצאתם בסעיף הקודם, ובנו גרף המתאר את גודל העיוות הרדיאלי כתלות במרחק מהנקודה הראשית."
   ]
  },
  {
   "cell_type": "code",
   "execution_count": 7,
   "metadata": {},
   "outputs": [
    {
     "name": "stdout",
     "output_type": "stream",
     "text": [
      "[9.50216756e-08 2.72936596e-06 3.33300211e-05 1.28518938e-04\n",
      " 3.26017044e-04 6.64970945e-04 1.18646896e-03 1.93405719e-03\n",
      " 2.95425560e-03 4.29707405e-03 6.01652843e-03 8.17115665e-03\n",
      " 1.08245348e-02 1.40457931e-02 1.79101321e-02 2.24993387e-02\n",
      " 2.79023021e-02 3.42155302e-02 4.15436652e-02 5.00000000e-02]\n"
     ]
    },
    {
     "data": {
      "image/png": "[encoded data removed]",
      "text/plain": [
       "<Figure size 432x288 with 1 Axes>"
      ]
     },
     "metadata": {},
     "output_type": "display_data"
    }
   ],
   "source": [
    "# create array of points in camera space\n",
    "x = np.linspace(0, camera1.sensorSize/2, 20)\n",
    "y = np.linspace(0, camera1.sensorSize/2, 20)\n",
    "X = np.zeros((len(x),2))\n",
    "X[:,0] = x\n",
    "X[:,1] = y\n",
    "# define the distnces from the principal point\n",
    "r = np.sqrt((X[:, 0] - camera1.principalPoint[0]) ** 2 +\n",
    "            (X[:, 1] - camera1.principalPoint[1]) ** 2)\n",
    "# define the radial distortions (dr)\n",
    "dx, dy, dr = camera1.ComputeRadialDistortions(X)\n",
    "print(dr)\n",
    "fig = plt.figure()\n",
    "ax = plt.plot(r, dr, 'b-o')\n",
    "plt.title('Radial distortion depends on distance from the principal point')\n",
    "plt.xlabel('r [mm]')\n",
    "plt.ylabel('delta_r [mm]')\n",
    "plt.show()"
   ]
  },
  {
   "cell_type": "markdown",
   "metadata": {},
   "source": [
    "ניתן לראות שככל שנקודת הדגימה רחוקה מהראשית כך העיוות גדל- באופן ריבועי"
   ]
  },
  {
   "cell_type": "markdown",
   "metadata": {},
   "source": [
    "8.\tכתבו פונקציה המוסיפה את העיוותים הרדיאליים (K1  ו-K2 ) של העדשה לנקודות במערכת התצלום. "
   ]
  },
  {
   "cell_type": "code",
   "execution_count": 8,
   "metadata": {},
   "outputs": [
    {
     "name": "stdout",
     "output_type": "stream",
     "text": [
      "camera Points= \n",
      " [[ 14.  14.]\n",
      " [ 14. -14.]\n",
      " [  0. -14.]\n",
      " [-14. -14.]\n",
      " [-14.  14.]\n",
      " [  0.  14.]]\n",
      "corrected points for radial distortion= \n",
      " [[ 1.40607983e+01  1.40603609e+01]\n",
      " [ 1.40630383e+01 -1.40643988e+01]\n",
      " [-2.02136351e-04 -1.40287034e+01]\n",
      " [-1.40650914e+01 -1.40655530e+01]\n",
      " [-1.40628059e+01  1.40614696e+01]\n",
      " [-1.89295675e-04  1.40261228e+01]]\n"
     ]
    }
   ],
   "source": [
    "# def CorrectionToRadialDistortions(self, camera_points):\n",
    "#     \"\"\"\n",
    "#     Correction to radial distortions for given points\n",
    "#     :param camera_points: points in camera space\n",
    "#     :type camera_points: np.array nx2\n",
    "#     :return: correct points in camera space\n",
    "#     :rtype: np.array\n",
    "#     \"\"\"\n",
    "#     r = np.sqrt((camera_points[:, 0] - self.principalPoint[0])**2 +\n",
    "#                 (camera_points[:, 1] - self.principalPoint[1])**2)\n",
    "#     dx = (camera_points[:, 0] - self.principalPoint[0])*(self.radial_distortions[0]*r**2 + self.radial_distortions[1]*r**4)\n",
    "#     dy = (camera_points[:, 1] - self.principalPoint[1])*(self.radial_distortions[0]*r**2 + self.radial_distortions[1]*r**4)\n",
    "#     correct_camera_points = np.zeros([len(camera_points), 2])\n",
    "#     correct_camera_points[:,0] = np.array([[camera_points[:, 0] + dx]])\n",
    "#     correct_camera_points[:,1] = np.array([[camera_points[:, 1] + dy]])\n",
    "\n",
    "#     return correct_camera_points\n",
    "\n",
    "\n",
    "# create ground points\n",
    "gcp = np.array([[20,20,0],\n",
    "                [20,-20,0],\n",
    "                [0,-20,0],\n",
    "                [-20,-20,0],\n",
    "                [-20,20,0],\n",
    "                [0,20,0]])\n",
    "# sampeling points in camera system\n",
    "cameraPoints1 = img1.GroundToImage(gcp)\n",
    "print('camera Points=','\\n',cameraPoints1)\n",
    "\n",
    "# corrected_points1 = camera1.CorrectionToPrincipalPoint(cameraPoints1)\n",
    "# print('corrected points for principal point=','\\n',corrected_points1)\n",
    "\n",
    "corrected_points2 = camera1.CorrectionToRadialDistortions(cameraPoints1)\n",
    "print('corrected points for radial distortion=','\\n',corrected_points2)\n"
   ]
  },
  {
   "cell_type": "markdown",
   "metadata": {},
   "source": [
    "9.\tהשתמשו בערכי K1 ו-K2 שמצאתם בסעיף 6. הראו כיצד ישפיע מיקום שונה של הנקודה הראשית על גודל העיוות המדידות. "
   ]
  },
  {
   "cell_type": "code",
   "execution_count": 9,
   "metadata": {},
   "outputs": [
    {
     "name": "stdout",
     "output_type": "stream",
     "text": [
      "[5.21858515e-02 4.09717901e-02 3.16810853e-02 2.40632800e-02\n",
      " 1.78928369e-02 1.29671451e-02 9.10452655e-03 6.14224208e-03\n",
      " 3.93449823e-03 2.35045343e-03 1.27222446e-03 5.92892853e-04\n",
      " 2.14511330e-04 4.61101681e-05 1.70363069e-06 1.70363069e-06\n",
      " 4.61101681e-05 2.14511330e-04 5.92892853e-04 1.27222446e-03\n",
      " 2.35045343e-03 3.93449823e-03 6.14224208e-03 9.10452655e-03\n",
      " 1.29671451e-02 1.78928369e-02 2.40632800e-02 3.16810853e-02\n",
      " 4.09717901e-02 5.21858515e-02]\n"
     ]
    },
    {
     "data": {
      "image/png": "[encoded data removed]",
      "text/plain": [
       "<Figure size 432x288 with 1 Axes>"
      ]
     },
     "metadata": {},
     "output_type": "display_data"
    }
   ],
   "source": [
    "# create array of xp,yp\n",
    "xp = np.linspace(-camera1.sensorSize/2, camera1.sensorSize/2, 30)\n",
    "yp = np.linspace(-camera1.sensorSize/2, camera1.sensorSize/2, 30)\n",
    "principal_points = np.zeros((len(xp), 2))\n",
    "principal_points[:, 0] = xp\n",
    "principal_points[:, 1] = yp\n",
    "# check radial distortion for different xp,yp\n",
    "check_point = np.array([[0,0]])\n",
    "dr2 = np.zeros([len(xp)])\n",
    "for i,p in enumerate(principal_points):\n",
    "    camera1.principalPoint = p\n",
    "    dx,dy,dr2[i] = camera1.ComputeRadialDistortions(check_point)\n",
    "\n",
    "print(dr2)\n",
    "\n",
    "plt.figure()\n",
    "plt.plot(xp, dr2, 'r-o')  \n",
    "plt.title('Radial distortion depends on principal point')\n",
    "plt.xlabel('xp [mm]')\n",
    "plt.ylabel('delta_r [mm]')\n",
    "plt.show()\n"
   ]
  },
  {
   "cell_type": "markdown",
   "metadata": {},
   "source": [
    "גודל הסנסור הוא סימטרי לכן הצגנו גרף של השינוי בעיוות הרדיאלי כתלות ב-xp בלבד.\n",
    "ניתן לראות שככל ש-xp או yp גדלים כך העיוות גדל- באופן ריבועי\n"
   ]
  },
  {
   "cell_type": "markdown",
   "metadata": {},
   "source": [
    "10.\tשרטטו את העיוותים. השתמשו ב- ()plt.quiver. "
   ]
  },
  {
   "cell_type": "code",
   "execution_count": 10,
   "metadata": {},
   "outputs": [
    {
     "data": {
      "image/png": "[encoded data removed]",
      "text/plain": [
       "<Figure size 432x288 with 1 Axes>"
      ]
     },
     "metadata": {},
     "output_type": "display_data"
    }
   ],
   "source": [
    "# plot the radial distortion\n",
    "camera1.principalPoint = np.array([0.1, 0.2])\n",
    "\n",
    "Xgrid = np.arange(-camera1.sensorSize/2, (camera1.sensorSize/2+1), 1)\n",
    "Ygrid = np.arange(-camera1.sensorSize/2, (camera1.sensorSize/2+1), 1)\n",
    "Xgrid, Ygrid = np.meshgrid(Xgrid, Ygrid)\n",
    "DX = np.zeros((len(Xgrid),len(Xgrid)))\n",
    "DY = np.zeros((len(Xgrid),len(Xgrid)))\n",
    "for i in range(len(Xgrid[:,0])):\n",
    "    for j in range(len(Xgrid[:,0])):\n",
    "        DX[i,j],DY[i,j], DR = camera1.ComputeRadialDistortions(np.array([[Xgrid[i,j],Ygrid[i,j]]]))\n",
    "\n",
    "plt.figure()\n",
    "plt.quiver(Xgrid, Ygrid, DX, DY)\n",
    "plt.title('Radial distortion')\n",
    "plt.xlabel('x [mm]')\n",
    "plt.ylabel('y [mm]')\n",
    "plt.axis('equal')\n",
    "plt.show()"
   ]
  },
  {
   "cell_type": "markdown",
   "metadata": {},
   "source": [
    "11.\tהאם גודל העיוות הרדיאלי תלוי בפיזור נקודות הבקרה? נמקו."
   ]
  },
  {
   "cell_type": "markdown",
   "metadata": {},
   "source": [
    "כן.\n",
    "פיזור נקודות הבקרה במערכת המצלמה משפיע על גודל העיוות בגדימה שלהן. \n",
    "הראנו שככל שהנקודה רחוקה יותר מהנקודה הראשית כך העיוות הרדיאלי גדול יותר.\n",
    "לפיכך, במצב בו נרצה לצמצם את השפעת העיוות הרדיאלי על הדגימה של נקודות הבקרה, נמקם את המצלמות כך שנקודות הבקרה יהיו קרובות לנקודה הראשית ככל שניתן"
   ]
  },
  {
   "cell_type": "markdown",
   "metadata": {},
   "source": [
    "12.\tהאם גודל העיוות הרדיאלי תלוי באוריינטציית התצלום? נמקו."
   ]
  },
  {
   "cell_type": "markdown",
   "metadata": {},
   "source": [
    "באופן ישיר גודל העיוות הרדיאלי תלוי במרחק מהראשית ובתיקון לנקודה הראשית.\n",
    "לכן אוריינטציית המצלמה לא משפיע באופן ישיר.\n",
    "באופן עקיף- אוריינטציה שונה גורמת לפיזור שונה של הנקודות במערכת המצלמה ולכן לאוריינטציה יכולה להיות השפעה."
   ]
  },
  {
   "cell_type": "code",
   "execution_count": 11,
   "metadata": {},
   "outputs": [
    {
     "name": "stderr",
     "output_type": "stream",
     "text": [
      "[NbConvertApp] Converting notebook Lab3_CameraCalibratoin1.ipynb to html\n",
      "[NbConvertApp] Writing 388012 bytes to Lab3_CameraCalibratoin1.html\n"
     ]
    }
   ],
   "source": [
    "!jupyter nbconvert  Lab3_CameraCalibratoin1.ipynb --to html"
   ]
  }
 ],
 "metadata": {
  "kernelspec": {
   "display_name": "Python 3",
   "language": "python",
   "name": "python3"
  },
  "language_info": {
   "codemirror_mode": {
    "name": "ipython",
    "version": 3
   },
   "file_extension": ".py",
   "mimetype": "text/x-python",
   "name": "python",
   "nbconvert_exporter": "python",
   "pygments_lexer": "ipython3",
   "version": "3.6.5"
  }
 },
 "nbformat": 4,
 "nbformat_minor": 2
}
