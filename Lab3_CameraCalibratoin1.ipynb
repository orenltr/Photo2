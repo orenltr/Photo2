{
 "cells": [
  {
   "cell_type": "markdown",
   "metadata": {},
   "source": [
    "#### שמות המגישים:"
   ]
  },
  {
   "cell_type": "markdown",
   "metadata": {},
   "source": [
    "# מעבדה 3 - כיול מצלמה  - בניית נתונים"
   ]
  },
  {
   "cell_type": "markdown",
   "metadata": {},
   "source": [
    "עד כה יצרנו תצלומים באמצעות מצלמות אידאליות, שם הנקודה הראשית נמצאת בדיוק בראשית הצירים של מערכת התצלום.\n",
    "\n",
    "על מנת שנוכל לבדוק מודלים של כיול של מצלמה, עלינו להכניס הזזה של הנקודה הראשית ועיוותי עדשה."
   ]
  },
  {
   "cell_type": "markdown",
   "metadata": {},
   "source": [
    "### חלק 1 - הנקודה הראשית"
   ]
  },
  {
   "cell_type": "markdown",
   "metadata": {},
   "source": [
    "1.\tכתבו פונקציה המייצרת נקודות במערכת התצלום כאשר הנקודה הראשית מוזזת מראשית הצירים. "
   ]
  },
  {
   "cell_type": "code",
   "execution_count": null,
   "metadata": {},
   "outputs": [],
   "source": []
  },
  {
   "cell_type": "markdown",
   "metadata": {},
   "source": [
    "2.\tנגדיר את מיקום הנקודה הראשית xp=100; yp=200 מיקרון. כיצד ישתנו ערכי הנקודות במערכת התצלום. הסבירו איזה ערכים אתם צופים לקבל. באיזו סוג התמרה השתמשתם?"
   ]
  },
  {
   "cell_type": "code",
   "execution_count": null,
   "metadata": {},
   "outputs": [],
   "source": []
  },
  {
   "cell_type": "markdown",
   "metadata": {},
   "source": [
    "3.\tהראו שהפונקציה מחזירה את הערכים שלהם ציפיתם. "
   ]
  },
  {
   "cell_type": "code",
   "execution_count": null,
   "metadata": {},
   "outputs": [],
   "source": []
  },
  {
   "cell_type": "markdown",
   "metadata": {},
   "source": [
    "4.\tכתבו פונקציה המתקנת את הנקודות בהינתן ערכי הנקודה הראשית אל מערכת המצלמה. "
   ]
  },
  {
   "cell_type": "code",
   "execution_count": null,
   "metadata": {},
   "outputs": [],
   "source": []
  },
  {
   "cell_type": "markdown",
   "metadata": {},
   "source": [
    "5.\tהראו כי פתרון התצלום לאחר התיקון מוביל לערכים צפויים. "
   ]
  },
  {
   "cell_type": "code",
   "execution_count": null,
   "metadata": {},
   "outputs": [],
   "source": []
  },
  {
   "cell_type": "markdown",
   "metadata": {},
   "source": [
    "### חלק 2 - עיוותים רדיאליים"
   ]
  },
  {
   "cell_type": "markdown",
   "metadata": {},
   "source": [
    "6.\tהשתמשו במודל של העיוותים הרדיאליים שניתנה בהרצאה. מה יהיו ערכי K1  ו-K2 כך שהעיוות המקסימלי בתמונה לא יעלה על 50 מיקרון והעיוות הנתרם על ידי K2 לא יעלה על 10 מיקרון. ניתן להניח ש-K3=0.  "
   ]
  },
  {
   "cell_type": "code",
   "execution_count": null,
   "metadata": {},
   "outputs": [],
   "source": []
  },
  {
   "cell_type": "markdown",
   "metadata": {},
   "source": [
    "7.\tהסתמכו על מודל העיוותים ועל K1 ו-K2 שמצאתם בסעיף הקודם, ובנו גרף המתאר את גודל העיוות הרדיאלי כתלות במרחק מהנקודה הראשית."
   ]
  },
  {
   "cell_type": "code",
   "execution_count": null,
   "metadata": {},
   "outputs": [],
   "source": []
  },
  {
   "cell_type": "markdown",
   "metadata": {},
   "source": [
    "8.\tכתבו פונקציה המוסיפה את העיוותים הרדיאליים (K1  ו-K2 ) של העדשה לנקודות במערכת התצלום. "
   ]
  },
  {
   "cell_type": "code",
   "execution_count": null,
   "metadata": {},
   "outputs": [],
   "source": []
  },
  {
   "cell_type": "markdown",
   "metadata": {},
   "source": [
    "9.\tהשתמשו בערכי K1 ו-K2 שמצאתם בסעיף 6. הראו כיצד ישפיע מיקום שונה של הנקודה הראשית על גודל העיוות המדידות. "
   ]
  },
  {
   "cell_type": "code",
   "execution_count": null,
   "metadata": {},
   "outputs": [],
   "source": []
  },
  {
   "cell_type": "markdown",
   "metadata": {},
   "source": [
    "10.\tשרטטו את העיוותים. השתמשו ב- ()plt.quiver. "
   ]
  },
  {
   "cell_type": "code",
   "execution_count": null,
   "metadata": {},
   "outputs": [],
   "source": []
  },
  {
   "cell_type": "markdown",
   "metadata": {},
   "source": [
    "11.\tהאם גודל העיוות הרדיאלי תלוי בפיזור נקודות הבקרה? נמקו."
   ]
  },
  {
   "cell_type": "code",
   "execution_count": null,
   "metadata": {},
   "outputs": [],
   "source": []
  },
  {
   "cell_type": "markdown",
   "metadata": {},
   "source": [
    "12.\tהאם גודל העיוות הרדיאלי תלוי באוריינטציית התצלום? נמקו."
   ]
  },
  {
   "cell_type": "code",
   "execution_count": null,
   "metadata": {},
   "outputs": [],
   "source": []
  }
 ],
 "metadata": {
  "kernelspec": {
   "display_name": "Python 3",
   "language": "python",
   "name": "python3"
  },
  "language_info": {
   "codemirror_mode": {
    "name": "ipython",
    "version": 3
   },
   "file_extension": ".py",
   "mimetype": "text/x-python",
   "name": "python",
   "nbconvert_exporter": "python",
   "pygments_lexer": "ipython3",
   "version": "3.7.4"
  }
 },
 "nbformat": 4,
 "nbformat_minor": 2
}
