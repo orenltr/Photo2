{
 "cells": [
  {
   "cell_type": "raw",
   "metadata": {},
   "source": [
    "מגישים: אורן לוטרמן, נועם זימרן"
   ]
  },
  {
   "cell_type": "markdown",
   "metadata": {},
   "source": [
    "# מעבדה 3 - כיול מצלמה  - בניית נתונים"
   ]
  },
  {
   "cell_type": "markdown",
   "metadata": {},
   "source": [
    "עד כה יצרנו תצלומים באמצעות מצלמות אידאליות, שם הנקודה הראשית נמצאת בדיוק בראשית הצירים של מערכת התצלום.\n",
    "\n",
    "על מנת שנוכל לבדוק מודלים של כיול של מצלמה, עלינו להכניס הזזה של הנקודה הראשית ועיוותי עדשה."
   ]
  },
  {
   "cell_type": "markdown",
   "metadata": {},
   "source": [
    "### חלק 1 - הנקודה הראשית"
   ]
  },
  {
   "cell_type": "markdown",
   "metadata": {},
   "source": [
    "1.\tכתבו פונקציה המייצרת נקודות במערכת התצלום כאשר הנקודה הראשית מוזזת מראשית הצירים. "
   ]
  },
  {
   "cell_type": "code",
   "execution_count": 1,
   "metadata": {},
   "outputs": [],
   "source": [
    "import numpy as np\n",
    "from matplotlib import pyplot as plt\n",
    "from Camera import Camera\n",
    "import PhotoViewer as pv\n",
    "from SingleImage import SingleImage\n",
    "import MatrixMethods\n",
    "\n",
    "# def ShiftedPrincipalPoint(self, camera_points):\n",
    "#     \"\"\"\n",
    "#     Points in camera space when principal point is shifted\n",
    "#     :param camera_points: sampled image points\n",
    "#     :param t: shifting from principal point\n",
    "\n",
    "#     :type camera_points: np.array nx2\n",
    "#     :type t: np.array 1X2\n",
    "\n",
    "#     :return: shifted image points\n",
    "#     \"\"\"\n",
    "\n",
    "#     shifted_camera_points = np.zeros([len(camera_points), 2])\n",
    "#     shifted_camera_points[:, 0] = camera_points[:, 0] + self.principalPoint[0]\n",
    "#     shifted_camera_points[:, 1] = camera_points[:, 1] + self.principalPoint[1]\n",
    "#     return shifted_camera_points\n"
   ]
  },
  {
   "cell_type": "markdown",
   "metadata": {},
   "source": [
    "2.\tנגדיר את מיקום הנקודה הראשית xp=100; yp=200 מיקרון. כיצד ישתנו ערכי הנקודות במערכת התצלום. הסבירו איזה ערכים אתם צופים לקבל. באיזו סוג התמרה השתמשתם?"
   ]
  },
  {
   "cell_type": "markdown",
   "metadata": {},
   "source": [
    "ביצענו הזזה של מערכת היחוס.\n",
    "נחבר את ערכי ההזזה לערכי הנקודות שדגמנו במערכת התצלום.\n"
   ]
  },
  {
   "cell_type": "code",
   "execution_count": 2,
   "metadata": {},
   "outputs": [
    {
     "name": "stdout",
     "output_type": "stream",
     "text": [
      "[[ 3  3]\n",
      " [ 7  4]\n",
      " [10  8]\n",
      " [12 15]\n",
      " [13 13]\n",
      " [16  6]]\n"
     ]
    }
   ],
   "source": [
    "# define camera\n",
    "focal_length = 35  # [mm]\n",
    "sensor_size = 35  # [mm]\n",
    "xp=0.1  # [mm]\n",
    "yp=0.2  # [mm]\n",
    "camera1 = Camera(focal_length, np.array([xp, yp]), None, None, None, sensor_size)\n",
    "img1 = SingleImage(camera1)\n",
    "omega = 0\n",
    "phi = 0\n",
    "kappa = 0\n",
    "Z = 50  # [m]\n",
    "img1.exteriorOrientationParameters = np.array([[0, 0, Z, omega, phi, kappa]])\n",
    "\n",
    "camera_points = np.array([[3, 3],\n",
    "                          [7, 4],\n",
    "                          [10, 8],\n",
    "                          [12, 15],\n",
    "                          [13, 13],\n",
    "                          [16, 6]])  # [mm]\n",
    "print(camera_points)"
   ]
  },
  {
   "cell_type": "markdown",
   "metadata": {},
   "source": [
    "3.\tהראו שהפונקציה מחזירה את הערכים שלהם ציפיתם. "
   ]
  },
  {
   "cell_type": "code",
   "execution_count": 3,
   "metadata": {},
   "outputs": [
    {
     "name": "stdout",
     "output_type": "stream",
     "text": [
      "~~~~~ \n",
      " [[ 3.1  3.2]\n",
      " [ 7.1  4.2]\n",
      " [10.1  8.2]\n",
      " [12.1 15.2]\n",
      " [13.1 13.2]\n",
      " [16.1  6.2]]\n"
     ]
    }
   ],
   "source": [
    "shifted_points = camera1.ShiftedPrincipalPoint(camera_points)\n",
    "print('~~~~~','\\n',shifted_points)\n"
   ]
  },
  {
   "cell_type": "markdown",
   "metadata": {},
   "source": [
    "4.\tכתבו פונקציה המתקנת את הנקודות בהינתן ערכי הנקודה הראשית אל מערכת המצלמה. "
   ]
  },
  {
   "cell_type": "code",
   "execution_count": 4,
   "metadata": {},
   "outputs": [],
   "source": [
    "# def CorrectionToPrincipalPoint(self, camera_points):\n",
    "#     \"\"\"\n",
    "#     Correction to principal point\n",
    "\n",
    "#     :param camera_points: sampled image points\n",
    "\n",
    "#     :type: np.array nx2\n",
    "\n",
    "#     :return: corrected image points\n",
    "\n",
    "#     :rtype: np.array nx2\n",
    "\n",
    "#     .. warning::\n",
    "\n",
    "#         This function is empty, need implementation\n",
    "\n",
    "#     .. note::\n",
    "\n",
    "#         The principal point is an attribute of the camera object, i.e., ``self.principalPoint``\n",
    "\n",
    "\n",
    "#     \"\"\"\n",
    "\n",
    "#     corrected_camera_points = np.zeros([len(camera_points), 2])\n",
    "#     corrected_camera_points[:, 0] = camera_points[:, 0] - self.principalPoint[0]\n",
    "#     corrected_camera_points[:, 1] = camera_points[:, 1] - self.principalPoint[1]\n",
    "#     return corrected_camera_points\n"
   ]
  },
  {
   "cell_type": "markdown",
   "metadata": {},
   "source": [
    "5.\tהראו כי פתרון התצלום לאחר התיקון מוביל לערכים צפויים. "
   ]
  },
  {
   "cell_type": "code",
   "execution_count": 5,
   "metadata": {},
   "outputs": [
    {
     "name": "stdout",
     "output_type": "stream",
     "text": [
      "~~~~~ \n",
      " [[ 3.  3.]\n",
      " [ 7.  4.]\n",
      " [10.  8.]\n",
      " [12. 15.]\n",
      " [13. 13.]\n",
      " [16.  6.]]\n"
     ]
    }
   ],
   "source": [
    "correted_points = camera1.CorrectionToPrincipalPoint(shifted_points)\n",
    "print('~~~~~','\\n',correted_points)\n"
   ]
  },
  {
   "cell_type": "markdown",
   "metadata": {},
   "source": [
    "ניתן לראות שחזרנו לנקודות המקוריות- כלומר התיקון עבד כראוי"
   ]
  },
  {
   "cell_type": "markdown",
   "metadata": {},
   "source": [
    "### חלק 2 - עיוותים רדיאליים"
   ]
  },
  {
   "cell_type": "markdown",
   "metadata": {},
   "source": [
    "6.\tהשתמשו במודל של העיוותים הרדיאליים שניתנה בהרצאה. מה יהיו ערכי K1  ו-K2 כך שהעיוות המקסימלי בתמונה לא יעלה על 50 מיקרון והעיוות הנתרם על ידי K2 לא יעלה על 10 מיקרון. ניתן להניח ש-K3=0.  "
   ]
  },
  {
   "cell_type": "code",
   "execution_count": 6,
   "metadata": {},
   "outputs": [
    {
     "name": "stdout",
     "output_type": "stream",
     "text": [
      "k1= \n",
      " 2.707766121598928e-06\n",
      "k2= \n",
      " 1.1243942038032255e-09\n"
     ]
    }
   ],
   "source": [
    "# calculate k1, k2\n",
    "# assume maximal radial distortions in the edges\n",
    "r = np.sqrt((camera1.sensorSize/2 - camera1.principalPoint[0]) ** 2 +\n",
    "            (camera1.sensorSize/2 - camera1.principalPoint[1]) ** 2)\n",
    "# dr = k1*r^3+k2*r^5....\n",
    "k2 = 0.01/(r**5)\n",
    "k1 = (0.05-k2*r**5)/(r**3)\n",
    "print('k1=','\\n',k1)\n",
    "print('k2=','\\n',k2)\n",
    "\n",
    "camera1.radial_distortions = np.array([k1,k2])\n"
   ]
  },
  {
   "cell_type": "markdown",
   "metadata": {},
   "source": [
    "7.\tהסתמכו על מודל העיוותים ועל K1 ו-K2 שמצאתם בסעיף הקודם, ובנו גרף המתאר את גודל העיוות הרדיאלי כתלות במרחק מהנקודה הראשית."
   ]
  },
  {
   "cell_type": "code",
   "execution_count": 7,
   "metadata": {},
   "outputs": [
    {
     "data": {
      "image/png": "[encoded data removed]",
      "text/plain": [
       "<Figure size 432x288 with 1 Axes>"
      ]
     },
     "metadata": {},
     "output_type": "display_data"
    }
   ],
   "source": [
    "# create array of points in camera space\n",
    "x = np.linspace(0, camera1.sensorSize/2, 20)\n",
    "y = np.linspace(0, camera1.sensorSize/2, 20)\n",
    "X = np.zeros((len(x),2))\n",
    "X[:,0] = x\n",
    "X[:,1] = y\n",
    "# define the distnces from the principal point\n",
    "r = np.sqrt((X[:, 0] - camera1.principalPoint[0]) ** 2 +\n",
    "            (X[:, 1] - camera1.principalPoint[1]) ** 2)\n",
    "# define the radial distortions (dr)\n",
    "dx, dy, dr = camera1.ComputeRadialDistortions(X)\n",
    "fig = plt.figure()\n",
    "ax = plt.plot(r, dr, 'b-o')\n",
    "plt.title('Radial distortion depends on distance from the principal point ')\n",
    "plt.xlabel('r [mm]')\n",
    "plt.ylabel('delta_r [mm]')\n",
    "plt.show()"
   ]
  },
  {
   "cell_type": "markdown",
   "metadata": {},
   "source": [
    "8.\tכתבו פונקציה המוסיפה את העיוותים הרדיאליים (K1  ו-K2 ) של העדשה לנקודות במערכת התצלום. "
   ]
  },
  {
   "cell_type": "code",
   "execution_count": 8,
   "metadata": {},
   "outputs": [
    {
     "name": "stdout",
     "output_type": "stream",
     "text": [
      "camera Points= \n",
      " [[ 14.  14.]\n",
      " [ 14. -14.]\n",
      " [  0. -14.]\n",
      " [-14. -14.]\n",
      " [-14.  14.]\n",
      " [  0.  14.]]\n",
      "corrected points for radial distortion= \n",
      " [[ 1.40167402e+01  1.40166198e+01]\n",
      " [ 1.40172980e+01 -1.40176714e+01]\n",
      " [-5.91741968e-05 -1.40084027e+01]\n",
      " [-1.40178313e+01 -1.40179578e+01]\n",
      " [-1.40172635e+01  1.40168962e+01]\n",
      " [-5.56477188e-05  1.40076794e+01]]\n"
     ]
    }
   ],
   "source": [
    "# def CorrectionToRadialDistortions(self, camera_points):\n",
    "#     \"\"\"\n",
    "#     Correction to radial distortions for given points\n",
    "#     :param camera_points: points in camera space\n",
    "#     :type camera_points: np.array nx2\n",
    "#     :return: correct points in camera space\n",
    "#     :rtype: np.array\n",
    "#     \"\"\"\n",
    "#     r = np.sqrt((camera_points[:, 0] - self.principalPoint[0])**2 +\n",
    "#                 (camera_points[:, 1] - self.principalPoint[1])**2)\n",
    "#     dx = (camera_points[:, 0] - self.principalPoint[0])*(self.radial_distortions[0]*r**2 + self.radial_distortions[1]*r**4)\n",
    "#     dy = (camera_points[:, 1] - self.principalPoint[1])*(self.radial_distortions[0]*r**2 + self.radial_distortions[1]*r**4)\n",
    "#     correct_camera_points = np.zeros([len(camera_points), 2])\n",
    "#     correct_camera_points[:,0] = np.array([[camera_points[:, 0] + dx]])\n",
    "#     correct_camera_points[:,1] = np.array([[camera_points[:, 1] + dy]])\n",
    "\n",
    "#     return correct_camera_points\n",
    "\n",
    "\n",
    "# create ground points\n",
    "gcp = np.array([[20,20,0],\n",
    "                [20,-20,0],\n",
    "                [0,-20,0],\n",
    "                [-20,-20,0],\n",
    "                [-20,20,0],\n",
    "                [0,20,0]])\n",
    "# sampeling points in camera system\n",
    "cameraPoints1 = img1.GroundToImage(gcp)\n",
    "print('camera Points=','\\n',cameraPoints1)\n",
    "\n",
    "# corrected_points1 = camera1.CorrectionToPrincipalPoint(cameraPoints1)\n",
    "# print('corrected points for principal point=','\\n',corrected_points1)\n",
    "\n",
    "corrected_points2 = camera1.CorrectionToRadialDistortions(cameraPoints1)\n",
    "print('corrected points for radial distortion=','\\n',corrected_points2)\n"
   ]
  },
  {
   "cell_type": "markdown",
   "metadata": {},
   "source": [
    "9.\tהשתמשו בערכי K1 ו-K2 שמצאתם בסעיף 6. הראו כיצד ישפיע מיקום שונה של הנקודה הראשית על גודל העיוות המדידות. "
   ]
  },
  {
   "cell_type": "code",
   "execution_count": 9,
   "metadata": {},
   "outputs": [
    {
     "name": "stdout",
     "output_type": "stream",
     "text": [
      "[0.00829477 0.00800775 0.00772785 0.00745497 0.007189   0.00692981\n",
      " 0.0066773  0.00643137 0.0061919  0.00595879]\n"
     ]
    },
    {
     "data": {
      "image/png": "[encoded data removed]",
      "text/plain": [
       "<Figure size 432x288 with 1 Axes>"
      ]
     },
     "metadata": {},
     "output_type": "display_data"
    }
   ],
   "source": [
    "# create array of principal points\n",
    "xp = np.linspace(0, 1, 10)\n",
    "yp = np.linspace(0, 1, 10)\n",
    "principal_points = np.zeros((len(xp), 2))\n",
    "principal_points[:, 0] = xp\n",
    "principal_points[:, 1] = yp\n",
    "# check radial distortion for different xp,yp\n",
    "check_point = np.array([[10,10]])\n",
    "dr2 = np.zeros([len(xp)])\n",
    "for i,p in enumerate(principal_points):\n",
    "    camera1.principalPoint = p\n",
    "    dx,dy,dr2[i] = camera1.ComputeRadialDistortions(check_point)\n",
    "\n",
    "print(dr2)\n",
    "\n",
    "plt.figure()\n",
    "plt.plot(principal_points, dr2, 'r-o')\n",
    "\n",
    "plt.show()\n",
    "\n",
    "\n",
    "# גרף לא טוב.. לא מייצג מיקומים שונים של נק ראשית אלא רק רק שינוי בציר אחד"
   ]
  },
  {
   "cell_type": "markdown",
   "metadata": {},
   "source": [
    "10.\tשרטטו את העיוותים. השתמשו ב- ()plt.quiver. "
   ]
  },
  {
   "cell_type": "code",
   "execution_count": null,
   "metadata": {},
   "outputs": [],
   "source": []
  },
  {
   "cell_type": "markdown",
   "metadata": {},
   "source": [
    "11.\tהאם גודל העיוות הרדיאלי תלוי בפיזור נקודות הבקרה? נמקו."
   ]
  },
  {
   "cell_type": "markdown",
   "metadata": {},
   "source": [
    "פיזור בתצלום"
   ]
  },
  {
   "cell_type": "code",
   "execution_count": null,
   "metadata": {},
   "outputs": [],
   "source": []
  },
  {
   "cell_type": "markdown",
   "metadata": {},
   "source": [
    "12.\tהאם גודל העיוות הרדיאלי תלוי באוריינטציית התצלום? נמקו."
   ]
  },
  {
   "cell_type": "code",
   "execution_count": null,
   "metadata": {},
   "outputs": [],
   "source": []
  }
 ],
 "metadata": {
  "kernelspec": {
   "display_name": "Python 3",
   "language": "python",
   "name": "python3"
  },
  "language_info": {
   "codemirror_mode": {
    "name": "ipython",
    "version": 3
   },
   "file_extension": ".py",
   "mimetype": "text/x-python",
   "name": "python",
   "nbconvert_exporter": "python",
   "pygments_lexer": "ipython3",
   "version": "3.6.5"
  }
 },
 "nbformat": 4,
 "nbformat_minor": 2
}
