{
 "cells": [
  {
   "cell_type": "raw",
   "metadata": {},
   "source": [
    "מגישים: אורן לוטרמן, נועם זימרן"
   ]
  },
  {
   "cell_type": "markdown",
   "metadata": {},
   "source": [
    "# מעבדה 3 - כיול מצלמה  - בניית נתונים"
   ]
  },
  {
   "cell_type": "markdown",
   "metadata": {},
   "source": [
    "עד כה יצרנו תצלומים באמצעות מצלמות אידאליות, שם הנקודה הראשית נמצאת בדיוק בראשית הצירים של מערכת התצלום.\n",
    "\n",
    "על מנת שנוכל לבדוק מודלים של כיול של מצלמה, עלינו להכניס הזזה של הנקודה הראשית ועיוותי עדשה."
   ]
  },
  {
   "cell_type": "markdown",
   "metadata": {},
   "source": [
    "### חלק 1 - הנקודה הראשית"
   ]
  },
  {
   "cell_type": "markdown",
   "metadata": {},
   "source": [
    "1.\tכתבו פונקציה המייצרת נקודות במערכת התצלום כאשר הנקודה הראשית מוזזת מראשית הצירים. "
   ]
  },
  {
   "cell_type": "code",
   "execution_count": 1,
   "metadata": {},
   "outputs": [],
   "source": [
    "import numpy as np\n",
    "from matplotlib import pyplot as plt\n",
    "from Camera import Camera\n",
    "import PhotoViewer as pv\n",
    "from SingleImage import SingleImage\n",
    "import MatrixMethods\n",
    "\n",
    "# def ShiftedPrincipalPoint(self, camera_points):\n",
    "#     \"\"\"\n",
    "#     Points in camera space when principal point is shifted\n",
    "#     :param camera_points: sampled image points\n",
    "#     :param t: shifting from principal point\n",
    "\n",
    "#     :type camera_points: np.array nx2\n",
    "#     :type t: np.array 1X2\n",
    "\n",
    "#     :return: shifted image points\n",
    "#     \"\"\"\n",
    "\n",
    "#     shifted_camera_points = np.zeros([len(camera_points), 2])\n",
    "#     shifted_camera_points[:, 0] = camera_points[:, 0] - self.principalPoint[0]\n",
    "#     shifted_camera_points[:, 1] = camera_points[:, 1] - self.principalPoint[1]\n",
    "#     return shifted_camera_points\n"
   ]
  },
  {
   "cell_type": "markdown",
   "metadata": {},
   "source": [
    "2.\tנגדיר את מיקום הנקודה הראשית xp=100; yp=200 מיקרון. כיצד ישתנו ערכי הנקודות במערכת התצלום. הסבירו איזה ערכים אתם צופים לקבל. באיזו סוג התמרה השתמשתם?"
   ]
  },
  {
   "cell_type": "markdown",
   "metadata": {},
   "source": [
    "ביצענו הזזה של מערכת היחוס.\n",
    "נחסר את ערכי ההזזה מערכי הנקודות שדגמנו במערכת התצלום.\n"
   ]
  },
  {
   "cell_type": "code",
   "execution_count": 7,
   "metadata": {},
   "outputs": [
    {
     "name": "stdout",
     "output_type": "stream",
     "text": [
      "[[2000 2000]\n",
      " [1500  400]\n",
      " [1000  800]\n",
      " [2300 2100]\n",
      " [1300 1300]\n",
      " [ 700  700]]\n"
     ]
    }
   ],
   "source": [
    "# define camera\n",
    "focal_length = 35  # [mm]\n",
    "sensor_size = 3500  # [micron]\n",
    "xp=100\n",
    "yp=200\n",
    "camera1 = Camera(focal_length, np.array([xp, yp]), None, None, None, sensor_size)\n",
    "\n",
    "camera_points = np.array([[2000, 2000],\n",
    "                             [1500, 400],\n",
    "                              [1000, 800],\n",
    "                              [2300, 2100],\n",
    "                              [1300, 1300],\n",
    "                              [700, 700]])\n",
    "print(camera_points)"
   ]
  },
  {
   "cell_type": "markdown",
   "metadata": {},
   "source": [
    "3.\tהראו שהפונקציה מחזירה את הערכים שלהם ציפיתם. "
   ]
  },
  {
   "cell_type": "code",
   "execution_count": 8,
   "metadata": {},
   "outputs": [
    {
     "name": "stdout",
     "output_type": "stream",
     "text": [
      "~~~~~ \n",
      " [[1900. 1800.]\n",
      " [1400.  200.]\n",
      " [ 900.  600.]\n",
      " [2200. 1900.]\n",
      " [1200. 1100.]\n",
      " [ 600.  500.]]\n"
     ]
    }
   ],
   "source": [
    "shifted_points = camera1.ShiftedPrincipalPoint(camera_points)\n",
    "print('~~~~~','\\n',shifted_points)\n"
   ]
  },
  {
   "cell_type": "markdown",
   "metadata": {},
   "source": [
    "4.\tכתבו פונקציה המתקנת את הנקודות בהינתן ערכי הנקודה הראשית אל מערכת המצלמה. "
   ]
  },
  {
   "cell_type": "code",
   "execution_count": 4,
   "metadata": {},
   "outputs": [],
   "source": [
    "# def CorrectionToPrincipalPoint(self, camera_points):\n",
    "#     \"\"\"\n",
    "#     Correction to principal point\n",
    "\n",
    "#     :param camera_points: sampled image points\n",
    "\n",
    "#     :type: np.array nx2\n",
    "\n",
    "#     :return: corrected image points\n",
    "\n",
    "#     :rtype: np.array nx2\n",
    "\n",
    "#     .. warning::\n",
    "\n",
    "#         This function is empty, need implementation\n",
    "\n",
    "#     .. note::\n",
    "\n",
    "#         The principal point is an attribute of the camera object, i.e., ``self.principalPoint``\n",
    "\n",
    "\n",
    "#     \"\"\"\n",
    "\n",
    "#     corrected_camera_points = np.zeros([len(camera_points), 2])\n",
    "#     corrected_camera_points[:, 0] = camera_points[:, 0] + self.principalPoint[0]\n",
    "#     corrected_camera_points[:, 1] = camera_points[:, 1] + self.principalPoint[1]\n",
    "#     return corrected_camera_points\n"
   ]
  },
  {
   "cell_type": "markdown",
   "metadata": {},
   "source": [
    "5.\tהראו כי פתרון התצלום לאחר התיקון מוביל לערכים צפויים. "
   ]
  },
  {
   "cell_type": "code",
   "execution_count": 9,
   "metadata": {},
   "outputs": [
    {
     "name": "stdout",
     "output_type": "stream",
     "text": [
      "~~~~~ \n",
      " [[2000. 2000.]\n",
      " [1500.  400.]\n",
      " [1000.  800.]\n",
      " [2300. 2100.]\n",
      " [1300. 1300.]\n",
      " [ 700.  700.]]\n"
     ]
    }
   ],
   "source": [
    "correted_points = camera1.CorrectionToPrincipalPoint(shifted_points)\n",
    "print('~~~~~','\\n',correted_points)\n"
   ]
  },
  {
   "cell_type": "markdown",
   "metadata": {},
   "source": [
    "ניתן לראות שחזרנו לנקודות המקוריות- כלומר התיקון עבד כראוי"
   ]
  },
  {
   "cell_type": "markdown",
   "metadata": {},
   "source": [
    "### חלק 2 - עיוותים רדיאליים"
   ]
  },
  {
   "cell_type": "markdown",
   "metadata": {},
   "source": [
    "6.\tהשתמשו במודל של העיוותים הרדיאליים שניתנה בהרצאה. מה יהיו ערכי K1  ו-K2 כך שהעיוות המקסימלי בתמונה לא יעלה על 50 מיקרון והעיוות הנתרם על ידי K2 לא יעלה על 10 מיקרון. ניתן להניח ש-K3=0.  "
   ]
  },
  {
   "cell_type": "markdown",
   "metadata": {},
   "source": [
    "נקבע את-\n",
    "k2\n",
    "ואז נחפש את- \n",
    "k1"
   ]
  },
  {
   "cell_type": "code",
   "execution_count": null,
   "metadata": {},
   "outputs": [],
   "source": []
  },
  {
   "cell_type": "markdown",
   "metadata": {},
   "source": [
    "7.\tהסתמכו על מודל העיוותים ועל K1 ו-K2 שמצאתם בסעיף הקודם, ובנו גרף המתאר את גודל העיוות הרדיאלי כתלות במרחק מהנקודה הראשית."
   ]
  },
  {
   "cell_type": "code",
   "execution_count": null,
   "metadata": {},
   "outputs": [],
   "source": []
  },
  {
   "cell_type": "markdown",
   "metadata": {},
   "source": [
    "8.\tכתבו פונקציה המוסיפה את העיוותים הרדיאליים (K1  ו-K2 ) של העדשה לנקודות במערכת התצלום. "
   ]
  },
  {
   "cell_type": "code",
   "execution_count": null,
   "metadata": {},
   "outputs": [],
   "source": []
  },
  {
   "cell_type": "markdown",
   "metadata": {},
   "source": [
    "9.\tהשתמשו בערכי K1 ו-K2 שמצאתם בסעיף 6. הראו כיצד ישפיע מיקום שונה של הנקודה הראשית על גודל העיוות המדידות. "
   ]
  },
  {
   "cell_type": "code",
   "execution_count": null,
   "metadata": {},
   "outputs": [],
   "source": []
  },
  {
   "cell_type": "markdown",
   "metadata": {},
   "source": [
    "10.\tשרטטו את העיוותים. השתמשו ב- ()plt.quiver. "
   ]
  },
  {
   "cell_type": "code",
   "execution_count": null,
   "metadata": {},
   "outputs": [],
   "source": []
  },
  {
   "cell_type": "markdown",
   "metadata": {},
   "source": [
    "11.\tהאם גודל העיוות הרדיאלי תלוי בפיזור נקודות הבקרה? נמקו."
   ]
  },
  {
   "cell_type": "code",
   "execution_count": null,
   "metadata": {},
   "outputs": [],
   "source": [
    "פיזור בתצלום"
   ]
  },
  {
   "cell_type": "markdown",
   "metadata": {},
   "source": [
    "12.\tהאם גודל העיוות הרדיאלי תלוי באוריינטציית התצלום? נמקו."
   ]
  },
  {
   "cell_type": "code",
   "execution_count": null,
   "metadata": {},
   "outputs": [],
   "source": []
  }
 ],
 "metadata": {
  "kernelspec": {
   "display_name": "Python 3",
   "language": "python",
   "name": "python3"
  },
  "language_info": {
   "codemirror_mode": {
    "name": "ipython",
    "version": 3
   },
   "file_extension": ".py",
   "mimetype": "text/x-python",
   "name": "python",
   "nbconvert_exporter": "python",
   "pygments_lexer": "ipython3",
   "version": "3.6.5"
  }
 },
 "nbformat": 4,
 "nbformat_minor": 2
}
