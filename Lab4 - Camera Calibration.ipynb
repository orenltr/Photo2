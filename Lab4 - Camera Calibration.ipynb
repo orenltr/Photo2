{
 "cells": [
  {
   "cell_type": "markdown",
   "metadata": {},
   "source": [
    "#### מגישים:"
   ]
  },
  {
   "cell_type": "markdown",
   "metadata": {},
   "source": [
    "#  מעבדה 4 - כיול מצלמה "
   ]
  },
  {
   "cell_type": "markdown",
   "metadata": {},
   "source": [
    "מטרת המעבדה היא חישוב פרמטרי המצלמה הפנימיים על ידי תצלום בודד.בדיקת יציבות הפרמטרים ואת השפעת שינוי עמדת הצילום על ערכם."
   ]
  },
  {
   "cell_type": "markdown",
   "metadata": {},
   "source": [
    "### חלק 1 -  בניית שדה כיול ותצלום"
   ]
  },
  {
   "cell_type": "markdown",
   "metadata": {},
   "source": [
    " א. תכננו שדה כיול  "
   ]
  },
  {
   "cell_type": "code",
   "execution_count": null,
   "metadata": {},
   "outputs": [],
   "source": []
  },
  {
   "cell_type": "markdown",
   "metadata": {},
   "source": [
    "ב. הסבירו את הבנייה שלכם, התייחסו לנקודות הבאות:\n",
    "  - מספר ואופן פיזור הנקודות\n",
    "  - האם השדה הוא מישורי או תלת מימדי"
   ]
  },
  {
   "cell_type": "markdown",
   "metadata": {},
   "source": []
  },
  {
   "cell_type": "markdown",
   "metadata": {},
   "source": [
    "ג. הגדירו מערכת מצלמה\n",
    "  - הגדירו את הפרמטרים הפנימיים של המצלמה כולל עיוותים רדיאליים"
   ]
  },
  {
   "cell_type": "code",
   "execution_count": null,
   "metadata": {},
   "outputs": [],
   "source": []
  },
  {
   "cell_type": "markdown",
   "metadata": {},
   "source": [
    "ד. הגדירו את התצלום"
   ]
  },
  {
   "cell_type": "code",
   "execution_count": null,
   "metadata": {},
   "outputs": [],
   "source": []
  },
  {
   "cell_type": "markdown",
   "metadata": {},
   "source": [
    "ה. האם התצלום שבחרתם הוא אלכסוני/ אופקי/ אנכי?\n",
    "   - הסבירו את הבחירה שלכם לערכי האוריינטציה החיצונית של התצלום"
   ]
  },
  {
   "cell_type": "code",
   "execution_count": null,
   "metadata": {},
   "outputs": [],
   "source": []
  },
  {
   "cell_type": "markdown",
   "metadata": {},
   "source": [
    "ו.  הסבירו למה האוריינטציה ושדה הכיול שנבחרו מאפשרים כיול למצלמה"
   ]
  },
  {
   "cell_type": "code",
   "execution_count": null,
   "metadata": {},
   "outputs": [],
   "source": []
  },
  {
   "cell_type": "markdown",
   "metadata": {},
   "source": [
    "ז. ציירו את נקודות הבקרה על גבי התצלום"
   ]
  },
  {
   "cell_type": "code",
   "execution_count": null,
   "metadata": {},
   "outputs": [],
   "source": []
  },
  {
   "cell_type": "markdown",
   "metadata": {},
   "source": [
    "### חלק 2 -  כיול מצלמה"
   ]
  },
  {
   "cell_type": "markdown",
   "metadata": {},
   "source": [
    "א. בתוך המחלקה Camera בנו פונקציה בשם Calibration המקבלת את הנקודות בתצלום, נקודות הבקרה בעולם, וערכים מקורבים ומחזירה את פרמטרי הכיול של המצלמה "
   ]
  },
  {
   "cell_type": "code",
   "execution_count": null,
   "metadata": {},
   "outputs": [],
   "source": []
  },
  {
   "cell_type": "markdown",
   "metadata": {},
   "source": [
    "א. כיילו את המצלמה בעזרת התצלום שהגדרתם\n",
    " -  תהליך הכיול צריך להיות מוצג באופן הדרגתי לפי השלבים שלמדנו שמעבדות קודמות\n",
    "    - להתחיל מקונפיגורציה פשוטה\n",
    "    - פתרון לפי מספר נעלמים העולה בצורה הדרגתית\n",
    "    - פתרון עם מידת רעש שונה"
   ]
  },
  {
   "cell_type": "code",
   "execution_count": null,
   "metadata": {},
   "outputs": [],
   "source": []
  },
  {
   "cell_type": "markdown",
   "metadata": {},
   "source": [
    "ג. הסבירו את התשובות שקיבלתם בתהליך הכיול שבניתם\n",
    "  - התתייחסו לדברים הבאים:\n",
    "    - הבנייה של שדה הכיול\n",
    "    - אויינטציה של התצלום\n",
    "    - מספר הנעלמים בתהליך ודיוקם"
   ]
  },
  {
   "cell_type": "markdown",
   "metadata": {},
   "source": []
  }
 ],
 "metadata": {
  "kernelspec": {
   "display_name": "Python 3",
   "language": "python",
   "name": "python3"
  },
  "language_info": {
   "codemirror_mode": {
    "name": "ipython",
    "version": 3
   },
   "file_extension": ".py",
   "mimetype": "text/x-python",
   "name": "python",
   "nbconvert_exporter": "python",
   "pygments_lexer": "ipython3",
   "version": "3.7.4"
  }
 },
 "nbformat": 4,
 "nbformat_minor": 2
}
